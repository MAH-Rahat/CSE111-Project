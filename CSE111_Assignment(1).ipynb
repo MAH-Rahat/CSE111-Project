{
  "nbformat": 4,
  "nbformat_minor": 0,
  "metadata": {
    "colab": {
      "provenance": []
    },
    "kernelspec": {
      "name": "python3",
      "display_name": "Python 3"
    },
    "language_info": {
      "name": "python"
    }
  },
  "cells": [
    {
      "cell_type": "code",
      "execution_count": null,
      "metadata": {
        "colab": {
          "base_uri": "https://localhost:8080/"
        },
        "id": "1HMVgnT9w97j",
        "outputId": "63544dbd-e718-4b70-a2fb-6cd74c04d23d"
      },
      "outputs": [
        {
          "output_type": "stream",
          "name": "stdout",
          "text": [
            "Enter a string: HeLloo\n",
            "helloo\n"
          ]
        }
      ],
      "source": [
        "'''\n",
        "1.From a given string, print the string in all uppercase if the number of uppercase\n",
        "letters is more than lowercase letters. Otherwise, if lowercase is greater or equal\n",
        "to uppercase letters, print all lowercase. The inputs will contain letters (A-Z, a-z)\n",
        "only.\n",
        "'''\n",
        "\n",
        "input_string = input(\"Enter a string: \")\n",
        "\n",
        "# count the number of uppercase and lowercase letters in the string\n",
        "num_uppercase = sum(1 for c in input_string if c.isupper())\n",
        "num_lowercase = sum(1 for c in input_string if c.islower())\n",
        "\n",
        "# print the string in all uppercase or all lowercase based on the counts\n",
        "if num_uppercase > num_lowercase:\n",
        "    print(input_string.upper())\n",
        "else:\n",
        "    print(input_string.lower())\n",
        "\n",
        "\n",
        "\n"
      ]
    },
    {
      "cell_type": "code",
      "source": [
        "input_string = input(\"Enter a string: \")\n",
        "\n",
        "# create two empty lists to store uppercase and lowercase letters\n",
        "uppercase_letters = []\n",
        "lowercase_letters = []\n",
        "\n",
        "# iterate over each character in the string\n",
        "for char in input_string:\n",
        "    if char.isupper():\n",
        "        uppercase_letters.append(char)\n",
        "    elif char.islower():\n",
        "        lowercase_letters.append(char)\n",
        "\n",
        "# check which list is longer and print the string in the corresponding case\n",
        "if len(uppercase_letters) > len(lowercase_letters):\n",
        "    print(input_string.upper())\n",
        "else:\n",
        "    print(input_string.lower())\n"
      ],
      "metadata": {
        "colab": {
          "base_uri": "https://localhost:8080/"
        },
        "id": "EsoY69zP45s4",
        "outputId": "b0e056c7-f219-4c85-d888-c0ebf208152f"
      },
      "execution_count": null,
      "outputs": [
        {
          "output_type": "stream",
          "name": "stdout",
          "text": [
            "Enter a string: EnvironMENT\n",
            "environment\n"
          ]
        }
      ]
    },
    {
      "cell_type": "code",
      "source": [
        "'''\n",
        "2.Given a string, print whether it is a number, word or mixed with digit andletters.\n",
        "If all the characters are numeric values, print NUMBER. If they are all letters,\n",
        "print WORD. If it is mixed, print MIXED.\n",
        "'''\n",
        "\n",
        "input_string = input(\"Enter a string: \")\n",
        "\n",
        "# check if all characters are numeric\n",
        "if input_string.isnumeric():\n",
        "    print(\"NUMBER\")\n",
        "# check if all characters are letters\n",
        "elif input_string.isalpha():\n",
        "    print(\"WORD\")\n",
        "# otherwise, it is mixed\n",
        "else:\n",
        "    print(\"MIXED\")\n"
      ],
      "metadata": {
        "colab": {
          "base_uri": "https://localhost:8080/"
        },
        "id": "w7qaS7bg6Vsx",
        "outputId": "bb18c148-f456-409c-8f5b-da2ed3078556"
      },
      "execution_count": null,
      "outputs": [
        {
          "output_type": "stream",
          "name": "stdout",
          "text": [
            "Enter a string: ABcd\n",
            "WORD\n"
          ]
        }
      ]
    },
    {
      "cell_type": "code",
      "source": [
        "'''\n",
        "3.In a given string, there will be two uppercase letters in between some lowercase\n",
        "letters. Print the substring from the first uppercase letter to the last uppercase\n",
        "letter excluding them. If there are no letters in between them, print the word\n",
        "BLANK. It is guaranteed that there will be only two uppercase letters in the\n",
        "string.\n",
        "'''\n",
        "\n",
        "input_string = input(\"Enter a string: \")\n",
        "\n",
        "# initialize variables to store the indices of the first and last uppercase letters\n",
        "first_uppercase_index = None\n",
        "last_uppercase_index = None\n",
        "\n",
        "# iterate over the characters in the string to find the indices of the first and last uppercase letters\n",
        "for i in range(len(input_string)):\n",
        "    if input_string[i].isupper():\n",
        "        if first_uppercase_index is None:\n",
        "            first_uppercase_index = i\n",
        "        else:\n",
        "            last_uppercase_index = i\n",
        "\n",
        "# check if there are exactly two uppercase letters\n",
        "if first_uppercase_index is None or last_uppercase_index is None or first_uppercase_index == last_uppercase_index:\n",
        "    print(\"BLANK\")\n",
        "else:\n",
        "    # extract the substring between the two uppercase letters\n",
        "    substring = input_string[first_uppercase_index+1:last_uppercase_index]\n",
        "    print(substring)\n",
        "\n",
        "\n"
      ],
      "metadata": {
        "id": "3l3zb11Z6Pdl",
        "colab": {
          "base_uri": "https://localhost:8080/"
        },
        "outputId": "a5886f17-d779-4872-f0ac-3de4e5e88566"
      },
      "execution_count": 2,
      "outputs": [
        {
          "output_type": "stream",
          "name": "stdout",
          "text": [
            "Enter a string: baNgladEsh\n",
            "glad\n"
          ]
        }
      ]
    }
  ]
}